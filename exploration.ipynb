{
 "cells": [
  {
   "cell_type": "code",
   "execution_count": null,
   "metadata": {},
   "outputs": [],
   "source": [
    "from __future__ import print_function\n",
    "from pymongo import MongoClient\n",
    "from tqdm import tqdm\n",
    "from collections import Counter\n",
    "from collections import defaultdict\n",
    "import numpy as np"
   ]
  },
  {
   "cell_type": "code",
   "execution_count": null,
   "metadata": {},
   "outputs": [],
   "source": [
    "%%latex\n",
    "\\begin{align}\n",
    "&\\min \\sum_{j} \\Big( \\sum_{i, t_i} ( y_{i,j,t_i} - \\mathbf{u}_{i,t_i}^T \\mathbf{v}_{j})^2 + C_u ||\\mathbf{u}_{i,t_i}-\\mathbf{u}_{i,t_i-1}||^2 \\Big)+ C_v ||\\mathbf{v}_{j}||^2  \\\\\n",
    "&\\text{where}\\quad \\mathbf{u}_{i,0} = 0\n",
    "\\end{align}"
   ]
  },
  {
   "cell_type": "code",
   "execution_count": null,
   "metadata": {},
   "outputs": [],
   "source": [
    "# parameters\n",
    "n_max = 1000\n",
    "m_max = 100\n",
    "C_u = 0.01\n",
    "C_v = 0.1\n",
    "T = 5\n",
    "D = 3"
   ]
  },
  {
   "cell_type": "code",
   "execution_count": null,
   "metadata": {},
   "outputs": [],
   "source": [
    "client = MongoClient()\n",
    "db = client.instacart"
   ]
  },
  {
   "cell_type": "code",
   "execution_count": null,
   "metadata": {},
   "outputs": [],
   "source": [
    "user_lst = []\n",
    "prod_lst = []\n",
    "for doc in db.orders.find().limit(n_max):\n",
    "    user_lst.append(doc[\"user_id\"])\n",
    "    prod_lst += [x for y in doc[\"orders\"] for x in y[\"products\"]]\n",
    "prod_cnt = Counter(prod_lst)"
   ]
  },
  {
   "cell_type": "code",
   "execution_count": null,
   "metadata": {},
   "outputs": [],
   "source": [
    "user_set = {x for x in user_lst}\n",
    "prod_set = {x for x, cnt in prod_cnt.most_common(m_max)}"
   ]
  },
  {
   "cell_type": "code",
   "execution_count": null,
   "metadata": {},
   "outputs": [],
   "source": [
    "Y = {} # Y[i][t][j]\n",
    "Z = {} # Z[j][i][t]\n",
    "for doc in db.orders.find().limit(n_max):\n",
    "    i = doc[\"user_id\"]\n",
    "    orders = doc[\"orders\"]\n",
    "    orders = [x for x in orders if len(prod_set.intersection(x[\"products\"]))>0]\n",
    "    if len(orders) < 2:\n",
    "        user_set.discard(i)\n",
    "        continue\n",
    "    t_end = max(1, len(orders)-T-1)\n",
    "    for t in range(t_end):\n",
    "        p = Counter([x for y in orders[t:t+T] for x in y[\"products\"]\n",
    "                    if x in prod_set])\n",
    "        for j, y_ijt_unnorm in p.items():\n",
    "            y_ijt = (y_ijt_unnorm+0.0)/T\n",
    "            if i not in Y:\n",
    "                Y[i] = {}\n",
    "            if t not in Y[i]:\n",
    "                Y[i][t] = {}\n",
    "            if j not in Z:\n",
    "                Z[j] = {}\n",
    "            if i not in Z[j]:\n",
    "                Z[j][i] = {}\n",
    "            Y[i][t][j] = y_ijt\n",
    "            Z[j][i][t] = y_ijt"
   ]
  },
  {
   "cell_type": "code",
   "execution_count": null,
   "metadata": {},
   "outputs": [],
   "source": [
    "U = {} # U[i][t]\n",
    "V = {} # V[j]\n",
    "np.random.seed(1)\n",
    "for i, y_i in Y.items():\n",
    "    U[i] = {}\n",
    "    for t, y_it in y_i.items():\n",
    "        U[i][t] = np.random.rand(D)/D\n",
    "for j in prod_set:\n",
    "    V[j] = np.random.rand(D)/D"
   ]
  },
  {
   "cell_type": "code",
   "execution_count": null,
   "metadata": {},
   "outputs": [],
   "source": [
    "def update_u_it(y_i, u_i, V, t):\n",
    "    u_curr = u_i[t]\n",
    "    u_prev = np.zeros(D)\n",
    "    if t > 0:\n",
    "        u_prev = u_i[t-1]\n",
    "    if t not in y_i:\n",
    "        print(y_i, u_i, t)\n",
    "    j_seq = [j for j in y_i[t].keys()]\n",
    "    n_it = len(j_seq)\n",
    "    y_it = np.zeros((n_it, 1))\n",
    "    v_it = np.zeros((n_it, D))\n",
    "    I = np.diag(np.ones(D))\n",
    "    for j_idx, j in enumerate(j_seq):\n",
    "        y_it[j_idx,:] = y_i[t][j]\n",
    "        v_it[j_idx,:] = V[j]  \n",
    "    out1 = np.linalg.inv(np.dot(v_it.T, v_it) + C_u * I)\n",
    "    out2 = np.reshape(np.dot(v_it.T, y_it), -1) + C_u * u_prev\n",
    "    out = np.dot(out1, out2)\n",
    "    return out\n",
    "    \n",
    "def update_u(Y, U, V):\n",
    "    for i, u_i in U.items():\n",
    "        t_max = len(u_i.keys())\n",
    "        for t in range(t_max):\n",
    "            U[i][t] = update_u_it(Y[i], u_i, V, t)\n",
    "            \n",
    "def update_v(Z, U, V):\n",
    "    I = np.diag(np.ones(D))\n",
    "    for j in V.keys():\n",
    "        v_j = V[j]\n",
    "        y_j = []\n",
    "        for i, z_ji in Z[j].items():\n",
    "            for t, z_jit in z_ji.items():\n",
    "                y_j.append(z_jit)\n",
    "        n_j = len(y_j)\n",
    "        y_j = np.reshape(np.array(y_j), (n_j, 1))                    \n",
    "        u_j = np.zeros((n_j, D))\n",
    "        u_idx = 0\n",
    "        for i, z_ji in Z[j].items():\n",
    "            for t, z_jit in z_ji.items():\n",
    "                u_j[u_idx,:] = U[i][t]\n",
    "                u_idx += 1\n",
    "        out1 = np.linalg.inv(np.dot(u_j.T, u_j)+C_v*I)\n",
    "        out2 = np.reshape(np.dot(u_j.T, y_j), -1)\n",
    "        V[j] = np.dot(out1, out2)\n",
    "        \n",
    "def loss_function(Y, U, V):\n",
    "    loss = 0\n",
    "    for i, y_i in Y.items():\n",
    "        for t, y_it in y_i.items():\n",
    "            u_prev = np.zeros(D)\n",
    "            if t > 0:\n",
    "                u_prev = U[i][t-1]\n",
    "            if t not in U[i]:\n",
    "                print(U[i], t, y_i)\n",
    "            dU = (U[i][t] - u_prev)\n",
    "            dU_norm = np.dot(dU.T, dU)\n",
    "            loss += C_u * dU_norm\n",
    "            for j, y_itj in y_it.items():\n",
    "                loss += (y_itj - np.dot(U[i][t].T, V[j]))**2\n",
    "    for j, v_j in V.items():\n",
    "        loss += C_v * np.dot(v_j.T, v_j)\n",
    "    return loss"
   ]
  },
  {
   "cell_type": "code",
   "execution_count": null,
   "metadata": {},
   "outputs": [],
   "source": [
    "num_iteration = 100\n",
    "for k in range(num_iteration):\n",
    "    update_u(Y, U, V)\n",
    "    update_v(Z, U, V)\n",
    "    print(k, loss_function(Y, U, V))"
   ]
  },
  {
   "cell_type": "code",
   "execution_count": null,
   "metadata": {},
   "outputs": [],
   "source": [
    "U"
   ]
  },
  {
   "cell_type": "code",
   "execution_count": null,
   "metadata": {},
   "outputs": [],
   "source": []
  }
 ],
 "metadata": {
  "kernelspec": {
   "display_name": "Python 2",
   "language": "python",
   "name": "python2"
  },
  "language_info": {
   "codemirror_mode": {
    "name": "ipython",
    "version": 2
   },
   "file_extension": ".py",
   "mimetype": "text/x-python",
   "name": "python",
   "nbconvert_exporter": "python",
   "pygments_lexer": "ipython2",
   "version": "2.7.15"
  }
 },
 "nbformat": 4,
 "nbformat_minor": 2
}
